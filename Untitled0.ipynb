{
  "nbformat": 4,
  "nbformat_minor": 0,
  "metadata": {
    "colab": {
      "name": "Untitled0.ipynb",
      "provenance": [],
      "collapsed_sections": [],
      "authorship_tag": "ABX9TyPGNiZ/3nSMhOgCrBBhnMxz",
      "include_colab_link": true
    },
    "kernelspec": {
      "name": "python3",
      "display_name": "Python 3"
    }
  },
  "cells": [
    {
      "cell_type": "markdown",
      "metadata": {
        "id": "view-in-github",
        "colab_type": "text"
      },
      "source": [
        "<a href=\"https://colab.research.google.com/github/mnyang/mina/blob/master/Untitled0.ipynb\" target=\"_parent\"><img src=\"https://colab.research.google.com/assets/colab-badge.svg\" alt=\"Open In Colab\"/></a>"
      ]
    },
    {
      "cell_type": "markdown",
      "metadata": {
        "id": "8S6cIPfXTbGT",
        "colab_type": "text"
      },
      "source": [
        "# AI기술 활용한 제품 또는 서비스\n",
        "* 언어분야\n",
        "  * 콘센트릭스 기업의 다국어 번역·챗봇 솔루션 **'Lingualab'**\n",
        "    * 한국어 포함 30개 언어의 번역이 가능한 자동 번역 엔진을 탑재하고 있다.\n",
        "  고객이 모국어로 문의하면 챗봇이 번역 솔루션을 통해 고객 모국어로 답변하는 구조. 상담원과의 채팅에서도 동일하게 작동되어 상담원이 해당 언어를 구사할 줄 모르더라도 상담에 전혀 지장이 없다. 상담원 선발 시 외국어 구사 능력에 구애받지 않으므로 더욱 풍부한 전문 인력 풀을 확보할 수 있고, 이는 원어민 채용 대비 40% 이상의 비용 절감 효과로 이어진다. 또한 고객문의가 폭증하는 특정 시즌에도 고객 적시 응대가 가능해져 컨택센터 운영 안정성을 확보할 수 있다.\n",
        "  <hr/>\n",
        "* 음성분야\n",
        "  * 아마존 닷컴이 개발한 **'아마존 에코'**\n",
        "    * 9. 25인치(23.5cm) 높이의 원기둥 모양의 스마트 스피커\n",
        "    * \"알렉사\"(Alexa)라는 이름에 반응하는 음성 통제 가상 비서 서비스 알렉사에 연결된다. 아마존 에코는 음성 상호작용, 음악재생, 할 일 목록 만들기, 알람 설정, 스트리밍 팟캐스트, 오디오 북재생, 날씨, 트래픽 및 기타 실시간 정보 제공을 할 수 있다.\n",
        "    * 또한, 스마트 홈 허브 역할을 하면서 자신이 직접 여러 스마트 장치를 통제할 수 있다. \n",
        "    <hr/>\n",
        "\n",
        "* 이미지분야\n",
        "  * 네이버의 **쇼핑렌즈**\n",
        "    * 쇼핑렌즈는 카메라가 일차적으로 찍는 대상을 '상품'으로 인지하는 기술, 이미지를 분석해 유사한 상품을 찾아 매칭시키는 기술, 쇼핑에 최적화된 이미지 검색 UI(User Interface)를 구현하는 기술 등을 종합한 서비스이다. 기존 스마트 렌즈에 적용된 'SCOPIC(스코픽)' 기술과 UI를 쇼핑분야에 맞춰 개발,연구 한 결과이다.\n",
        "    * 검색결과에서 상품의 가격, 브랜드 확인, 구매로 이어지는 전 과정을 제공하도록 쇼핑 페이지를 모아 제공한다. 스마트렌즈를 통해 별도의 쇼핑 컬렉션을 구축해 상품 정보만 쉽게 볼 수 있는 검색 결과도 제공한다.\n",
        "    * 안드로이드 및 IOS 버전의 네이버앱 업데이트 후 스마트 렌즈 버튼을 클릭해 사용할 수 있다.\n",
        "<hr/>\n",
        "\n",
        "* 자율주행\n",
        "  * **웨이모 원**\n",
        "    * 구글 모기업 알파벳의 자율주행 자동차 부문인 웨이모가 시행중인 자율주행 택시 호출 서비스. 현재 미국 애리조나 피닉스 일부 지역에서 제한된 사용자를 대상으로 운영중이다.\n",
        "    * 차량공유 앱 우버처럼 스마트폰으로 자율주행 택시를 호출하면 차량이 승객이 있는 지점까지 정확하게 와서 승객을 태우고 목적지로 이동한다. 차량은 운전자 개입없이 스스로 주행한다. 오작동에 대비해 엔지니어가 운전석에 앉아 상황을 모니터링하는 방식으로 운행한다.\n",
        "\n",
        "\n",
        "\n",
        "\n",
        "\n"
      ]
    },
    {
      "cell_type": "code",
      "metadata": {
        "id": "5_zkem7JLIMB",
        "colab_type": "code",
        "colab": {}
      },
      "source": [
        ""
      ],
      "execution_count": 0,
      "outputs": []
    }
  ]
}